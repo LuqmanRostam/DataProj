{
 "cells": [
  {
   "cell_type": "code",
   "execution_count": 27,
   "id": "83295a72",
   "metadata": {},
   "outputs": [],
   "source": [
    "import pandas as pd\n",
    "import numpy as np\n",
    "import matplotlib.pyplot as plt\n",
    "import seaborn as sns"
   ]
  },
  {
   "cell_type": "code",
   "execution_count": 28,
   "id": "31e5bede",
   "metadata": {},
   "outputs": [],
   "source": [
    "data  = pd.read_csv(\"replsetnum.csv\")"
   ]
  },
  {
   "cell_type": "code",
   "execution_count": 29,
   "id": "dacacdb0",
   "metadata": {},
   "outputs": [
    {
     "data": {
      "text/html": [
       "<div>\n",
       "<style scoped>\n",
       "    .dataframe tbody tr th:only-of-type {\n",
       "        vertical-align: middle;\n",
       "    }\n",
       "\n",
       "    .dataframe tbody tr th {\n",
       "        vertical-align: top;\n",
       "    }\n",
       "\n",
       "    .dataframe thead th {\n",
       "        text-align: right;\n",
       "    }\n",
       "</style>\n",
       "<table border=\"1\" class=\"dataframe\">\n",
       "  <thead>\n",
       "    <tr style=\"text-align: right;\">\n",
       "      <th></th>\n",
       "      <th>budget</th>\n",
       "      <th>original_language</th>\n",
       "      <th>popularity</th>\n",
       "      <th>revenue</th>\n",
       "      <th>runtime</th>\n",
       "      <th>vote_average</th>\n",
       "      <th>vote_count</th>\n",
       "    </tr>\n",
       "  </thead>\n",
       "  <tbody>\n",
       "    <tr>\n",
       "      <th>0</th>\n",
       "      <td>0</td>\n",
       "      <td>en</td>\n",
       "      <td>11.712900</td>\n",
       "      <td>0</td>\n",
       "      <td>101.0</td>\n",
       "      <td>6.5</td>\n",
       "      <td>92</td>\n",
       "    </tr>\n",
       "    <tr>\n",
       "      <th>1</th>\n",
       "      <td>0</td>\n",
       "      <td>en</td>\n",
       "      <td>2.561161</td>\n",
       "      <td>0</td>\n",
       "      <td>97.0</td>\n",
       "      <td>5.4</td>\n",
       "      <td>45</td>\n",
       "    </tr>\n",
       "    <tr>\n",
       "      <th>2</th>\n",
       "      <td>0</td>\n",
       "      <td>en</td>\n",
       "      <td>5.430331</td>\n",
       "      <td>0</td>\n",
       "      <td>88.0</td>\n",
       "      <td>5.7</td>\n",
       "      <td>210</td>\n",
       "    </tr>\n",
       "    <tr>\n",
       "      <th>3</th>\n",
       "      <td>0</td>\n",
       "      <td>en</td>\n",
       "      <td>10.701801</td>\n",
       "      <td>0</td>\n",
       "      <td>124.0</td>\n",
       "      <td>6.5</td>\n",
       "      <td>199</td>\n",
       "    </tr>\n",
       "    <tr>\n",
       "      <th>4</th>\n",
       "      <td>0</td>\n",
       "      <td>en</td>\n",
       "      <td>12.133094</td>\n",
       "      <td>0</td>\n",
       "      <td>111.0</td>\n",
       "      <td>6.3</td>\n",
       "      <td>143</td>\n",
       "    </tr>\n",
       "    <tr>\n",
       "      <th>...</th>\n",
       "      <td>...</td>\n",
       "      <td>...</td>\n",
       "      <td>...</td>\n",
       "      <td>...</td>\n",
       "      <td>...</td>\n",
       "      <td>...</td>\n",
       "      <td>...</td>\n",
       "    </tr>\n",
       "    <tr>\n",
       "      <th>45455</th>\n",
       "      <td>260000000</td>\n",
       "      <td>en</td>\n",
       "      <td>39.186819</td>\n",
       "      <td>604942143</td>\n",
       "      <td>149.0</td>\n",
       "      <td>6.2</td>\n",
       "      <td>1440</td>\n",
       "    </tr>\n",
       "    <tr>\n",
       "      <th>45456</th>\n",
       "      <td>270000000</td>\n",
       "      <td>en</td>\n",
       "      <td>13.284712</td>\n",
       "      <td>391081192</td>\n",
       "      <td>154.0</td>\n",
       "      <td>5.4</td>\n",
       "      <td>1429</td>\n",
       "    </tr>\n",
       "    <tr>\n",
       "      <th>45457</th>\n",
       "      <td>280000000</td>\n",
       "      <td>en</td>\n",
       "      <td>37.379420</td>\n",
       "      <td>1405403694</td>\n",
       "      <td>141.0</td>\n",
       "      <td>7.3</td>\n",
       "      <td>6908</td>\n",
       "    </tr>\n",
       "    <tr>\n",
       "      <th>45458</th>\n",
       "      <td>300000000</td>\n",
       "      <td>en</td>\n",
       "      <td>31.363664</td>\n",
       "      <td>961000000</td>\n",
       "      <td>169.0</td>\n",
       "      <td>6.9</td>\n",
       "      <td>4627</td>\n",
       "    </tr>\n",
       "    <tr>\n",
       "      <th>45459</th>\n",
       "      <td>380000000</td>\n",
       "      <td>en</td>\n",
       "      <td>27.887720</td>\n",
       "      <td>1045713802</td>\n",
       "      <td>136.0</td>\n",
       "      <td>6.4</td>\n",
       "      <td>5068</td>\n",
       "    </tr>\n",
       "  </tbody>\n",
       "</table>\n",
       "<p>45460 rows × 7 columns</p>\n",
       "</div>"
      ],
      "text/plain": [
       "          budget original_language  popularity     revenue  runtime  \\\n",
       "0              0                en   11.712900           0    101.0   \n",
       "1              0                en    2.561161           0     97.0   \n",
       "2              0                en    5.430331           0     88.0   \n",
       "3              0                en   10.701801           0    124.0   \n",
       "4              0                en   12.133094           0    111.0   \n",
       "...          ...               ...         ...         ...      ...   \n",
       "45455  260000000                en   39.186819   604942143    149.0   \n",
       "45456  270000000                en   13.284712   391081192    154.0   \n",
       "45457  280000000                en   37.379420  1405403694    141.0   \n",
       "45458  300000000                en   31.363664   961000000    169.0   \n",
       "45459  380000000                en   27.887720  1045713802    136.0   \n",
       "\n",
       "       vote_average  vote_count  \n",
       "0               6.5          92  \n",
       "1               5.4          45  \n",
       "2               5.7         210  \n",
       "3               6.5         199  \n",
       "4               6.3         143  \n",
       "...             ...         ...  \n",
       "45455           6.2        1440  \n",
       "45456           5.4        1429  \n",
       "45457           7.3        6908  \n",
       "45458           6.9        4627  \n",
       "45459           6.4        5068  \n",
       "\n",
       "[45460 rows x 7 columns]"
      ]
     },
     "execution_count": 29,
     "metadata": {},
     "output_type": "execute_result"
    }
   ],
   "source": [
    "data."
   ]
  },
  {
   "cell_type": "code",
   "execution_count": 30,
   "id": "75ac07af",
   "metadata": {},
   "outputs": [],
   "source": [
    "data.dropna(inplace=True)"
   ]
  },
  {
   "cell_type": "code",
   "execution_count": 31,
   "id": "ffb58ca6",
   "metadata": {},
   "outputs": [
    {
     "name": "stdout",
     "output_type": "stream",
     "text": [
      "<class 'pandas.core.frame.DataFrame'>\n",
      "Int64Index: 45192 entries, 0 to 45459\n",
      "Data columns (total 7 columns):\n",
      " #   Column             Non-Null Count  Dtype  \n",
      "---  ------             --------------  -----  \n",
      " 0   budget             45192 non-null  int64  \n",
      " 1   original_language  45192 non-null  object \n",
      " 2   popularity         45192 non-null  float64\n",
      " 3   revenue            45192 non-null  int64  \n",
      " 4   runtime            45192 non-null  float64\n",
      " 5   vote_average       45192 non-null  float64\n",
      " 6   vote_count         45192 non-null  int64  \n",
      "dtypes: float64(3), int64(3), object(1)\n",
      "memory usage: 2.8+ MB\n"
     ]
    }
   ],
   "source": [
    "data.info()"
   ]
  },
  {
   "cell_type": "code",
   "execution_count": 32,
   "id": "9c5aa688",
   "metadata": {},
   "outputs": [
    {
     "name": "stderr",
     "output_type": "stream",
     "text": [
      "C:\\Users\\luqma\\AppData\\Local\\Temp\\ipykernel_17964\\2627137660.py:1: FutureWarning: The default value of numeric_only in DataFrame.corr is deprecated. In a future version, it will default to False. Select only valid columns or specify the value of numeric_only to silence this warning.\n",
      "  data.corr()\n"
     ]
    },
    {
     "data": {
      "text/html": [
       "<div>\n",
       "<style scoped>\n",
       "    .dataframe tbody tr th:only-of-type {\n",
       "        vertical-align: middle;\n",
       "    }\n",
       "\n",
       "    .dataframe tbody tr th {\n",
       "        vertical-align: top;\n",
       "    }\n",
       "\n",
       "    .dataframe thead th {\n",
       "        text-align: right;\n",
       "    }\n",
       "</style>\n",
       "<table border=\"1\" class=\"dataframe\">\n",
       "  <thead>\n",
       "    <tr style=\"text-align: right;\">\n",
       "      <th></th>\n",
       "      <th>budget</th>\n",
       "      <th>popularity</th>\n",
       "      <th>revenue</th>\n",
       "      <th>runtime</th>\n",
       "      <th>vote_average</th>\n",
       "      <th>vote_count</th>\n",
       "    </tr>\n",
       "  </thead>\n",
       "  <tbody>\n",
       "    <tr>\n",
       "      <th>budget</th>\n",
       "      <td>1.000000</td>\n",
       "      <td>0.449361</td>\n",
       "      <td>0.768730</td>\n",
       "      <td>0.134708</td>\n",
       "      <td>0.072860</td>\n",
       "      <td>0.676545</td>\n",
       "    </tr>\n",
       "    <tr>\n",
       "      <th>popularity</th>\n",
       "      <td>0.449361</td>\n",
       "      <td>1.000000</td>\n",
       "      <td>0.506069</td>\n",
       "      <td>0.129860</td>\n",
       "      <td>0.153261</td>\n",
       "      <td>0.559800</td>\n",
       "    </tr>\n",
       "    <tr>\n",
       "      <th>revenue</th>\n",
       "      <td>0.768730</td>\n",
       "      <td>0.506069</td>\n",
       "      <td>1.000000</td>\n",
       "      <td>0.103900</td>\n",
       "      <td>0.083754</td>\n",
       "      <td>0.811985</td>\n",
       "    </tr>\n",
       "    <tr>\n",
       "      <th>runtime</th>\n",
       "      <td>0.134708</td>\n",
       "      <td>0.129860</td>\n",
       "      <td>0.103900</td>\n",
       "      <td>1.000000</td>\n",
       "      <td>0.158014</td>\n",
       "      <td>0.113515</td>\n",
       "    </tr>\n",
       "    <tr>\n",
       "      <th>vote_average</th>\n",
       "      <td>0.072860</td>\n",
       "      <td>0.153261</td>\n",
       "      <td>0.083754</td>\n",
       "      <td>0.158014</td>\n",
       "      <td>1.000000</td>\n",
       "      <td>0.123642</td>\n",
       "    </tr>\n",
       "    <tr>\n",
       "      <th>vote_count</th>\n",
       "      <td>0.676545</td>\n",
       "      <td>0.559800</td>\n",
       "      <td>0.811985</td>\n",
       "      <td>0.113515</td>\n",
       "      <td>0.123642</td>\n",
       "      <td>1.000000</td>\n",
       "    </tr>\n",
       "  </tbody>\n",
       "</table>\n",
       "</div>"
      ],
      "text/plain": [
       "                budget  popularity   revenue   runtime  vote_average  \\\n",
       "budget        1.000000    0.449361  0.768730  0.134708      0.072860   \n",
       "popularity    0.449361    1.000000  0.506069  0.129860      0.153261   \n",
       "revenue       0.768730    0.506069  1.000000  0.103900      0.083754   \n",
       "runtime       0.134708    0.129860  0.103900  1.000000      0.158014   \n",
       "vote_average  0.072860    0.153261  0.083754  0.158014      1.000000   \n",
       "vote_count    0.676545    0.559800  0.811985  0.113515      0.123642   \n",
       "\n",
       "              vote_count  \n",
       "budget          0.676545  \n",
       "popularity      0.559800  \n",
       "revenue         0.811985  \n",
       "runtime         0.113515  \n",
       "vote_average    0.123642  \n",
       "vote_count      1.000000  "
      ]
     },
     "execution_count": 32,
     "metadata": {},
     "output_type": "execute_result"
    }
   ],
   "source": [
    "data.corr()"
   ]
  },
  {
   "cell_type": "code",
   "execution_count": 37,
   "id": "d01fef83-9bda-4c60-8830-10353ef1c6c6",
   "metadata": {
    "tags": []
   },
   "outputs": [
    {
     "data": {
      "text/plain": [
       "0                 0\n",
       "1                 0\n",
       "2                 0\n",
       "3                 0\n",
       "4                 0\n",
       "            ...    \n",
       "45455     604942143\n",
       "45456     391081192\n",
       "45457    1405403694\n",
       "45458     961000000\n",
       "45459    1045713802\n",
       "Name: revenue, Length: 45192, dtype: int64"
      ]
     },
     "execution_count": 37,
     "metadata": {},
     "output_type": "execute_result"
    }
   ],
   "source": [
    "data[\"revenue\"]"
   ]
  },
  {
   "cell_type": "code",
   "execution_count": 39,
   "id": "b930a8ec-246c-422f-abc0-56fec29c4420",
   "metadata": {
    "tags": []
   },
   "outputs": [],
   "source": [
    "yo = pd.concat([data.drop(\"revenue\", axis=1), data[\"revenue\"]], axis=1)"
   ]
  },
  {
   "cell_type": "code",
   "execution_count": 40,
   "id": "578d4766",
   "metadata": {},
   "outputs": [
    {
     "name": "stderr",
     "output_type": "stream",
     "text": [
      "C:\\Users\\luqma\\AppData\\Local\\Temp\\ipykernel_17964\\659334711.py:2: FutureWarning: The default value of numeric_only in DataFrame.corr is deprecated. In a future version, it will default to False. Select only valid columns or specify the value of numeric_only to silence this warning.\n",
      "  sns.heatmap(yo.corr(), annot=True, cmap=\"coolwarm\")\n"
     ]
    },
    {
     "data": {
      "text/plain": [
       "<Axes: >"
      ]
     },
     "execution_count": 40,
     "metadata": {},
     "output_type": "execute_result"
    },
    {
     "data": {
      "image/png": "[encoded data removed]",
      "text/plain": [
       "<Figure size 1500x800 with 2 Axes>"
      ]
     },
     "metadata": {},
     "output_type": "display_data"
    }
   ],
   "source": [
    "plt.figure(figsize=(15,8))\n",
    "sns.heatmap(yo.corr(), annot=True, cmap=\"coolwarm\")"
   ]
  },
  {
   "cell_type": "code",
   "execution_count": null,
   "id": "df47a08d",
   "metadata": {},
   "outputs": [],
   "source": []
  }
 ],
 "metadata": {
  "kernelspec": {
   "display_name": "Python 3 (ipykernel)",
   "language": "python",
   "name": "python3"
  },
  "language_info": {
   "codemirror_mode": {
    "name": "ipython",
    "version": 3
   },
   "file_extension": ".py",
   "mimetype": "text/x-python",
   "name": "python",
   "nbconvert_exporter": "python",
   "pygments_lexer": "ipython3",
   "version": "3.11.4"
  }
 },
 "nbformat": 4,
 "nbformat_minor": 5
}
